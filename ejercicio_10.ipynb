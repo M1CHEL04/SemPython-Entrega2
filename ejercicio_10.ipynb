{
 "cells": [
  {
   "cell_type": "markdown",
   "metadata": {},
   "source": [
    "Para realizar este ejercicio, cree un archivo .py llamado tools, en el cual desarrolle funciones aplicadas para el correcto desarrollo de cada inciso del ejercicio. A continuacion, importo las funciones."
   ]
  },
  {
   "cell_type": "code",
   "execution_count": null,
   "metadata": {},
   "outputs": [],
   "source": [
    "import tools"
   ]
  },
  {
   "cell_type": "markdown",
   "metadata": {},
   "source": [
    "Para el desarrollo del ejercicio dispongo de los siguientes datos: "
   ]
  },
  {
   "cell_type": "code",
   "execution_count": null,
   "metadata": {},
   "outputs": [],
   "source": [
    "names=\"\"\"Agustin, Yanina, Andrés, Ariadna, Bautista, CAROLINA, CESAR, David, Diego, Dolores, DYLAN, ELIANA, Emanuel, Fabián, Noelia, Francsica, FEDERICO, Fernanda, GONZALO, Nancy\"\"\"\n",
    "goals=[0, 10, 4, 0, 5, 14, 0, 0, 7, 2, 1, 1, 1, 5, 6, 1, 1, 2, 0, 11]\n",
    "goals_avoided= [0, 2, 0, 0, 5, 2, 0, 0, 1, 2, 0, 5, 5, 0, 1, 0, 2, 3, 0, 0]\n",
    "assists=[0, 5, 1, 0, 5, 2, 0, 0, 1, 2, 1, 5, 5, 0, 1, 0, 2, 3, 1, 0]"
   ]
  },
  {
   "cell_type": "markdown",
   "metadata": {},
   "source": [
    "Para la correcta implementacion de la funcion que agrupa las estructuras de datos, convertire la variable names en una lista."
   ]
  },
  {
   "cell_type": "code",
   "execution_count": null,
   "metadata": {},
   "outputs": [],
   "source": [
    "names_list= names.split(\", \")"
   ]
  },
  {
   "cell_type": "markdown",
   "metadata": {},
   "source": [
    "Agrupo todas las estructuras de datos en un diccionario ordenado por clave(nombre del jugador), valor(tupla con goles,goles evitados y asistencias) mediante el uso de una funcion desarrollado en el modulo python 'tools.py'"
   ]
  },
  {
   "cell_type": "code",
   "execution_count": null,
   "metadata": {},
   "outputs": [],
   "source": [
    "dictionary=tools.create_dictionary(names_list,goals,goals_avoided,assists)\n",
    "print(dictionary)"
   ]
  },
  {
   "cell_type": "markdown",
   "metadata": {},
   "source": [
    "Una vez organizada la informacion en una misma estructura de datos, se realiza lo pedido en el incisio 2. Esto se lleva a cabo con una funcion especifica desarrollada en el modulo 'tools.py'"
   ]
  },
  {
   "cell_type": "code",
   "execution_count": null,
   "metadata": {},
   "outputs": [],
   "source": [
    "top_scorer=tools.get_topScorer(dictionary)\n",
    "print(f\"El/la mayor goleador/goleadora es '{top_scorer[0]}' con '{top_scorer[1]}' goles en la temporada.\")"
   ]
  },
  {
   "attachments": {
    "image.png": {
     "image/png": "[encoded data removed]"
    }
   },
   "cell_type": "markdown",
   "metadata": {},
   "source": [
    "Para poder calcular que jugador/jugadora fue el/la mas influyente del equipo, tenemos que saber que no todas las estadisticas tienen el mismo puntaje. El mismo se basa en la siguiente tabla:\n",
    "\n",
    "![image.png](attachment:image.png)\n",
    "\n",
    "Esto lo calculamos con la funcion desarrollada en el modulo python 'tools.py'"
   ]
  },
  {
   "cell_type": "code",
   "execution_count": null,
   "metadata": {},
   "outputs": [],
   "source": [
    "most_influential_player=tools.get_mostInfluentialPlayer(dictionary)\n",
    "print(f\"El/La jugador/jugadora mas influyente en el torneo fue: '{most_influential_player}'.\")"
   ]
  },
  {
   "cell_type": "markdown",
   "metadata": {},
   "source": [
    "Para poder calcular el promedio de goles de todo el equipo en la temporada debemos saber cuantos partidos se jugaron en la misma, segun la informacion brindada se jugaron 25 partios. "
   ]
  },
  {
   "cell_type": "code",
   "execution_count": null,
   "metadata": {},
   "outputs": [],
   "source": [
    "teams_average_goals_per_game=tools.get_teamAverageGoalsPerGame(dictionary)\n",
    "print(f\"El promedio de gol del equipo en toda la temporada fue de '{teams_average_goals_per_game}' goles por partido\")"
   ]
  },
  {
   "cell_type": "markdown",
   "metadata": {},
   "source": [
    "Teniendo en cuenta la informacion calculada en el inciso 2, podemos calcular de una forma mas sencilla el promedio de gol por partido del goleador/goleadora del torneo."
   ]
  },
  {
   "cell_type": "code",
   "execution_count": null,
   "metadata": {},
   "outputs": [],
   "source": [
    "top_scorer_average_goals_per_game=tools.get_topScorerAveregeGoalsPerGame(top_scorer[1])\n",
    "print(f\"El promedio de gol de el/la goleador/goleadora '{top_scorer[0]}' es de '{top_scorer_average_goals_per_game}' goles por partido.\")"
   ]
  }
 ],
 "metadata": {
  "kernelspec": {
   "display_name": "venv",
   "language": "python",
   "name": "python3"
  },
  "language_info": {
   "codemirror_mode": {
    "name": "ipython",
    "version": 3
   },
   "file_extension": ".py",
   "mimetype": "text/x-python",
   "name": "python",
   "nbconvert_exporter": "python",
   "pygments_lexer": "ipython3",
   "version": "3.11.2"
  }
 },
 "nbformat": 4,
 "nbformat_minor": 2
}
